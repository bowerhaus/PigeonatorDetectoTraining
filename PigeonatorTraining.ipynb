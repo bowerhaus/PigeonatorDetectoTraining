{
 "metadata": {
  "language_info": {
   "codemirror_mode": {
    "name": "ipython",
    "version": 3
   },
   "file_extension": ".py",
   "mimetype": "text/x-python",
   "name": "python",
   "nbconvert_exporter": "python",
   "pygments_lexer": "ipython3",
   "version": "3.8.8"
  },
  "orig_nbformat": 2,
  "kernelspec": {
   "name": "python388jvsc74a57bd03a1e3cd21a7cda1ae14abc5a8120561d35195c0a1ec7c8c05c39848d9d931c76",
   "display_name": "Python 3.8.8 64-bit ('Detecto': conda)"
  },
  "metadata": {
   "interpreter": {
    "hash": "3a1e3cd21a7cda1ae14abc5a8120561d35195c0a1ec7c8c05c39848d9d931c76"
   }
  }
 },
 "nbformat": 4,
 "nbformat_minor": 2,
 "cells": [
  {
   "source": [
    "import torch"
   ],
   "cell_type": "code",
   "metadata": {},
   "execution_count": null,
   "outputs": []
  },
  {
   "cell_type": "code",
   "execution_count": null,
   "metadata": {},
   "outputs": [],
   "source": [
    "import matplotlib.pyplot as plt\n",
    "from detecto.utils import read_image\n",
    "\n",
    "image = read_image(\"C:\\Projects\\Pigeonator\\TrainingData\\Pigeonator3-Uncategorized\\Batch1\\im1-20210420115255.jpg\")\n",
    "plt.imshow(image)\n",
    "plt.show()"
   ]
  },
  {
   "cell_type": "code",
   "execution_count": null,
   "metadata": {},
   "outputs": [],
   "source": [
    "from detecto.core import Dataset\n",
    "dataset = Dataset(\"C:\\Projects\\Pigeonator\\TrainingData\\Pigeonator3-Uncategorized\\Batch1\")\n",
    "val_dataset = Dataset(\"C:\\Projects\\Pigeonator\\TrainingData\\Pigeonator3-Uncategorized\\Batch1V\")\n"
   ]
  },
  {
   "cell_type": "code",
   "execution_count": null,
   "metadata": {},
   "outputs": [],
   "source": [
    "from detecto.visualize import show_labeled_image\n",
    "image, targets = dataset[0]\n",
    "show_labeled_image(image, targets['boxes'], targets['labels'])"
   ]
  },
  {
   "cell_type": "code",
   "execution_count": null,
   "metadata": {},
   "outputs": [],
   "source": [
    "from detecto.core import DataLoader, Model\n",
    "\n",
    "# Specify all unique labels you're trying to predict\n",
    "your_labels = ['Pigeon']\n",
    "model = Model(your_labels)\n",
    "losses=model.fit(dataset, val_dataset, epochs=50, verbose=True)\n",
    "plt.plot(losses)\n",
    "plt.show()\n",
    "model.save('Pigeonator1.pth')"
   ]
  },
  {
   "cell_type": "code",
   "execution_count": null,
   "metadata": {},
   "outputs": [],
   "source": [
    "image = read_image('C:\\Projects\\Pigeonator\\TrainingData\\Pigeonator3-Uncategorized\\Batch1V\\im1-20210420115347.jpg')\n",
    "predictions = model.predict(image)\n",
    "print(predictions)"
   ]
  },
  {
   "cell_type": "code",
   "execution_count": null,
   "metadata": {},
   "outputs": [],
   "source": [
    "from detecto.core import Model\n",
    "from detecto.utils import read_image\n",
    "from detecto.visualize import show_labeled_image\n",
    "model1 = Model.load('Pigeonator1.pth', your_labels)\n",
    "image = read_image('C:\\Projects\\Pigeonator\\TrainingData\\Pigeonator3-Uncategorized\\Batch5\\im1-20210422100452.jpg')\n",
    "labels, boxes, scores = model1.predict(image)\n",
    "show_labeled_image(image, boxes, labels)\n",
    "print(scores)"
   ]
  },
  {
   "cell_type": "code",
   "execution_count": null,
   "metadata": {},
   "outputs": [],
   "source": []
  }
 ]
}